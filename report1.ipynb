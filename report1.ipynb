{
 "cells": [
  {
   "cell_type": "markdown",
   "id": "907b64dd-1945-4013-b7ec-8532a53d326e",
   "metadata": {},
   "source": [
    "# Измерения SAT-солвера (DPLL)"
   ]
  },
  {
   "cell_type": "markdown",
   "id": "85810f99-d8b3-469b-8db4-43926004be94",
   "metadata": {},
   "source": [
    "## Тестовый стенд\n",
    "- HUAWEI MateBook D15 BoDE-WXX9-PCB-B4\n",
    "- CPU: 11th Gen Intel(R) Core(TM) i5-1155G7 @ 2.50GHz\n",
    "- Ядра: 8\n",
    "- Максимальная частота: 4500 GHz\n",
    "- ОЗУ: 16GB\n",
    "- ОС: Ubuntu 22.04.4 LTS"
   ]
  },
  {
   "cell_type": "markdown",
   "id": "1cac625f-256d-4102-9570-2b2ee1b027ff",
   "metadata": {},
   "source": [
    "## Подготовка тестового стенда\n",
    "* Закрытие приложений\n",
    "* Отключение интернет-соединения\n",
    "* Оключение swap\n",
    "* Фиксация частоты процессора\n",
    "* Переход в режим высокой производительности\n",
    "* Подключение к сети питания\n",
    "* Переключение в режим терминала\n",
    "* Задание высшего приоритета\n",
    "* Прикрепление к конкретному процессору"
   ]
  },
  {
   "cell_type": "markdown",
   "id": "36c7d2c9-a682-46be-889c-d19a75cfeae4",
   "metadata": {},
   "source": [
    "## Методика проведения эксперимента\n",
    "* Измерение производилось на файле, содержащем 100 переменных и 160 дизъюнктов (см. tests/5.txt)\n",
    "* Предварительный прогрев: 40 итераций\n",
    "* Замеры: 80 итераций\n",
    "* Сборка в Release"
   ]
  },
  {
   "cell_type": "markdown",
   "id": "7a23f0c0-c415-45fd-a0ee-3e0f83d64507",
   "metadata": {},
   "source": [
    "## Вычисления\n",
    "* Замеры проводились с помощью Stopwatch, который выдает время в миллисекундах\n",
    "* Для получения времени в секундах значения делятся на 1000"
   ]
  },
  {
   "cell_type": "code",
   "execution_count": 1,
   "id": "916be84f-5694-433f-be75-e7d5e012d51e",
   "metadata": {},
   "outputs": [
    {
     "name": "stdout",
     "output_type": "stream",
     "text": [
      "[6.688, 6.713, 6.698, 6.699, 6.698, 6.692, 6.686, 6.708, 6.694, 6.702, 6.709, 6.692, 6.706, 6.691, 6.689, 6.691, 6.709, 6.693, 6.69, 6.692, 6.689, 6.697, 6.687, 6.692, 6.69, 6.705, 6.693, 6.688, 6.701, 6.699, 6.684, 6.701, 6.7, 6.697, 6.689, 6.697, 6.687, 6.691, 6.7, 6.688, 6.684, 6.689, 6.69, 6.696, 6.69, 6.684, 6.695, 6.699, 6.701, 6.71, 6.695, 6.693, 6.689, 6.696, 6.695, 6.692, 6.705, 6.704, 6.692, 6.702, 6.689, 6.693, 6.699, 6.693, 6.699, 6.702, 6.697, 6.7, 6.702, 6.691, 6.696, 6.703, 6.698, 6.693, 6.706, 6.701, 6.692, 6.696, 6.692, 6.699]\n"
     ]
    }
   ],
   "source": [
    "from scipy import stats\n",
    "import numpy as np\n",
    "import matplotlib.pyplot as plt\n",
    "import math\n",
    "\n",
    "f = \"res1.txt\"\n",
    "t = []\n",
    "with open(f, 'r') as file:\n",
    "    for line in file:\n",
    "        clear = line.strip()\n",
    "        if clear:\n",
    "            t.append(int(clear) / 1000)\n",
    "\n",
    "print(t)"
   ]
  },
  {
   "cell_type": "code",
   "execution_count": 2,
   "id": "31ea7f7f-fb63-4d2c-be7d-ae2f6dcff00a",
   "metadata": {},
   "outputs": [
    {
     "data": {
      "text/plain": [
       "(array([ 4., 11., 16., 10., 11., 13.,  6.,  4.,  4.,  1.]),\n",
       " array([6.684 , 6.6869, 6.6898, 6.6927, 6.6956, 6.6985, 6.7014, 6.7043,\n",
       "        6.7072, 6.7101, 6.713 ]),\n",
       " <BarContainer object of 10 artists>)"
      ]
     },
     "execution_count": 2,
     "metadata": {},
     "output_type": "execute_result"
    },
    {
     "data": {
      "image/png": "[encoded data removed]",
      "text/plain": [
       "<Figure size 640x480 with 1 Axes>"
      ]
     },
     "metadata": {},
     "output_type": "display_data"
    }
   ],
   "source": [
    "plt.hist(t)"
   ]
  },
  {
   "cell_type": "markdown",
   "id": "472d5d89-1e0a-4661-a459-a57c1f711e3f",
   "metadata": {},
   "source": [
    "### Анализ результатов измерений\n",
    "* Внешне диаграмма соответствует нормальному распределению\n",
    "* Тест на нормальность:"
   ]
  },
  {
   "cell_type": "code",
   "execution_count": 3,
   "id": "001ab6e6-98a7-4f2d-8215-0b0bedc900df",
   "metadata": {},
   "outputs": [
    {
     "name": "stdout",
     "output_type": "stream",
     "text": [
      "NormaltestResult(statistic=2.96514439492794, pvalue=0.2270529117020134)\n",
      "ShapiroResult(statistic=0.9731216806632966, pvalue=0.08981236383616148)\n",
      "Тест пройден\n"
     ]
    }
   ],
   "source": [
    "test_normal = stats.normaltest(t)\n",
    "test_shapiro = stats.shapiro(t)\n",
    "\n",
    "print(test_normal, test_shapiro, sep = '\\n')\n",
    "if test_normal[1] > 0.05 or test_shapiro[1] > 0.05:\n",
    "    print(\"Тест пройден\")"
   ]
  },
  {
   "cell_type": "markdown",
   "id": "50106d2c-02e8-4a4b-a851-4e686859ad60",
   "metadata": {},
   "source": [
    "### Вычисления\n",
    "Среднее: $\\bar{t} = \\frac{\\sum_{i=1}^{n} t_i}{n}$"
   ]
  },
  {
   "cell_type": "code",
   "execution_count": 4,
   "id": "be733db7-fc0f-46a0-a9f6-3881dafca998",
   "metadata": {},
   "outputs": [
    {
     "name": "stdout",
     "output_type": "stream",
     "text": [
      "6.695712499999999\n"
     ]
    }
   ],
   "source": [
    "mean = np.mean(t)\n",
    "print(mean)"
   ]
  },
  {
   "cell_type": "markdown",
   "id": "d8006cc1-5075-4656-91a4-bdb8ff91cc4c",
   "metadata": {},
   "source": [
    "Стандартное отклонение: $\\sigma_{с.о.} = \\sqrt{\\frac{\\sum_{i=1}^{n} (t_i - \\bar{t})^2}{n - 1}}$"
   ]
  },
  {
   "cell_type": "code",
   "execution_count": 5,
   "id": "acf37cdd-8382-40d8-8060-e3b635f4927a",
   "metadata": {},
   "outputs": [
    {
     "name": "stdout",
     "output_type": "stream",
     "text": [
      "0.00657034717692422\n"
     ]
    }
   ],
   "source": [
    "std = np.std(t, ddof=1)\n",
    "print(std)"
   ]
  },
  {
   "cell_type": "markdown",
   "id": "9ff62187-9bf4-4b47-95f0-3e994102f58e",
   "metadata": {},
   "source": [
    "Качество проведенного эксперимента оценим косвенно, посчитав отношение стандартного отклонения к среднему:"
   ]
  },
  {
   "cell_type": "code",
   "execution_count": 6,
   "id": "f13a8439-ebe9-40bd-b393-1e4f22c9f251",
   "metadata": {},
   "outputs": [
    {
     "name": "stdout",
     "output_type": "stream",
     "text": [
      "0.09812767762839608\n"
     ]
    }
   ],
   "source": [
    "quality = (std / mean) * 100\n",
    "print(quality)"
   ]
  },
  {
   "cell_type": "markdown",
   "id": "72786a87-e407-4a5d-be4d-fe45bace1d66",
   "metadata": {},
   "source": [
    "Стандартное отклонение среднего: $\\sigma_{с.о.с} = \\frac{\\sigma_{с.о.}}{\\sqrt{n}}$\n"
   ]
  },
  {
   "cell_type": "code",
   "execution_count": 7,
   "id": "d28823f9-c7f7-4ca8-a03c-1cec202bdec4",
   "metadata": {},
   "outputs": [
    {
     "name": "stdout",
     "output_type": "stream",
     "text": [
      "0.0007345871461688196\n"
     ]
    }
   ],
   "source": [
    "avg_mean_dev = std /math.sqrt(len(t))\n",
    "print(avg_mean_dev)"
   ]
  },
  {
   "cell_type": "markdown",
   "id": "c753275f-800f-4f0e-9e66-1b6999deccc1",
   "metadata": {},
   "source": [
    "Доверительный интервал:"
   ]
  },
  {
   "cell_type": "code",
   "execution_count": 8,
   "id": "2173d69b-8c2b-46b1-a5c8-89f51ded0e2e",
   "metadata": {},
   "outputs": [
    {
     "name": "stdout",
     "output_type": "stream",
     "text": [
      "0.001462159139524077\n"
     ]
    }
   ],
   "source": [
    "interval = stats.t.ppf(0.975, df=len(t)-1)*stats.sem(t)\n",
    "print(interval)"
   ]
  },
  {
   "cell_type": "markdown",
   "id": "bd506931-0c05-45ec-98b5-1716345e3185",
   "metadata": {},
   "source": [
    "## Итог\n",
    "Результирующее значение: 6.6957 $\\pm$ 0.0015 (с)"
   ]
  }
 ],
 "metadata": {
  "kernelspec": {
   "display_name": "Python 3 (ipykernel)",
   "language": "python",
   "name": "python3"
  },
  "language_info": {
   "codemirror_mode": {
    "name": "ipython",
    "version": 3
   },
   "file_extension": ".py",
   "mimetype": "text/x-python",
   "name": "python",
   "nbconvert_exporter": "python",
   "pygments_lexer": "ipython3",
   "version": "3.10.12"
  }
 },
 "nbformat": 4,
 "nbformat_minor": 5
}
